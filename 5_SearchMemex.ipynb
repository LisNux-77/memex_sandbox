{
 "cells": [
  {
   "cell_type": "code",
   "execution_count": 4,
   "metadata": {},
   "outputs": [],
   "source": [
    "#import functions\n",
    "\n",
    "import os, yaml, json, re\n",
    "\n",
    "#pre-defined functions\n",
    "import functions\n",
    "\n",
    "#################################################\n",
    "#set variables\n",
    "\n",
    "settingsFile = \"Memex_config.yml\"\n",
    "settings = yaml.safe_load(open(settingsFile))\n",
    "pathToMemex = settings[\"path_to_memex\"]"
   ]
  },
  {
   "cell_type": "code",
   "execution_count": 44,
   "metadata": {},
   "outputs": [],
   "source": [
    "def runningSearches(searchString, pathToMemex):\n",
    "    \n",
    "    searchedWord = str(searchString)\n",
    "    results = {} #dictionary-of-dictionaries\n",
    "    \n",
    "    ocrFiles = functions.dicOfRelevantFiles(pathToMemex, \".json\")\n",
    "    citeKeys = list(ocrFiles.keys()) #list of citekeys\n",
    "    \n",
    "    for citeKey in citeKeys: #initiate for-loop through citekey list\n",
    "        docData = json.load(open(ocrFiles[citeKey])) #reads in the data of the respective citekey\n",
    "        \n",
    "        for k, v in docData.items():\n",
    "            if re.findall(searchedWord, v):\n",
    "                dic1 = {k:v}\n",
    "                results[citeKey] = dic1\n",
    "    \n",
    "    return results"
   ]
  },
  {
   "cell_type": "code",
   "execution_count": 45,
   "metadata": {},
   "outputs": [],
   "source": [
    "searchedWord = \"digital\"\n",
    "\n",
    "instancesFound = runningSearches(searchedWord, pathToMemex)"
   ]
  },
  {
   "cell_type": "code",
   "execution_count": 48,
   "metadata": {},
   "outputs": [
    {
     "name": "stdout",
     "output_type": "stream",
     "text": [
      "The first entry of the search dictionary is:  ('kidd_new_2019', {'0014': '66 © J.KIDD\\n\\nJackson, A. 2000. “Inter-acting with the Past - The Use of Participatory Theatre at Museums and Heritage Sites.” Research\\nin Drama Education 5 (2): 199-215.\\n\\nJohnson, Daniel M., and Janet Wiles. 2003. “Effective Affective User 3. Interface Design in Games.” Ergonomics 15 (46):\\n1332-1345.\\n\\nKeil, Jens, Laia Pujol, Maria Roussou, Timo Engelke, Michael Schmitt, Ulrich Bockholt, and Stamatia Eleftheratou. 2013.\\n“A Digital Look at Physical Museum Exhibits: Designing Personalized Stories with Handheld Augmented Reality in\\nMuseums.” In Proceedings of the Digital Heritage International Congress 2: 685-688.\\n\\nKenderdine, Sarah. 2016. “Embodiment, Entanglement, and Immersion in Digital Cultural Heritage” In A New\\nCompanion to Digital Humanities, edited by Susan Schreibman, Ray Siemens, and John Unsworth, 22-41. Chichester:\\nWiley.\\n\\nKidd, J. 2011. “Challenging History: Reviewing Debate within the Heritage Sector on the ‘Challenge’ of History.” Museum\\nand Society 9 (3): 244-248.\\n\\nKidd, J. 2014. Museums in the New Mediascape: Transmedia, Transmedia, Ethics. Farnham: Routledge.\\n\\nKidd, Jenny. 2015a. “Gaming for Affect: Museum Online Games and the Embrace of Empathy.” Journal of Curatorial\\nStudies 4 (3): 414-432.\\n\\nKidd, J. 2015b. Representation. London: Routledge.\\n\\nKidd, J., S. Cairns, A. Drago, A. Ryall, and M. Stearn, eds. 2014. Challenging History in the Museum: International\\nPerspectives. Farnham: Routledge.\\n\\nKidd, Jenny, and Rosie Cardiff. 2017. “A Space of Negotiation’: Visitor Generated Content and Ethics at Tate”. Museum\\nand Society 15 (1): 43-55.\\n\\nLang, Caroline, John Reeve, and Vicky Woollard. 2006. The Responsive Museum: Working with Audiences in the Twenty-\\nfirst Century. Surrey: Ashgate.\\n\\nMartina, Andrea, Andrea Bottino, Irene Rubino, and Daniel Cook. 2015. “One Day at The Sands: Exploring Las Vegas’\\nIntangible Heritage Through Virtual Reality.” International Journal of Heritage in the Digital Era 4 (1): 1-20.\\n\\nMazel, Aron, Areti Galani, Deborah Maxwell, and Kate Sharpe. 2012. “I Want to Be Provoked’: Public Involvement in the\\nDevelopment of the Northumberland and Rock Art on Mobile Phones project.” World Archaeology 44 (4): 592-611.\\n\\nMuntean, Reese, Kate Hennessy, Alissa Antle, Susan Rowley, Jordan Wilson, and Brendan Matkin. 2015. “?el - Belongings:\\nTangible Interactions with Intangible Heritage.” CITAR Journal 7 (2): 59-69.\\n\\nParry, Ross. 2013. “The End of the Beginning: Normativity in the Postdigital Museum.’ Museum Worlds 1 (1): 24-39.\\n\\nPetrelli, Daniela, Luigina Ciolfi, Dick van Dijk, Eva Hornecker, Elena Not, and Albrecht Schmidt. 2013. “Integrating\\nMaterial and Digital: A New Way for Cultural Heritage.” Interactions 20 (4): 58-63.\\n\\nPurkis, Harriet. 2016. “Making Digital Heritage about People’s Life Stories.” International Journal of Heritage Studies\\n0 (0): 1-11.\\n\\nRidel, Brett, Patrick Reuter, Jeremy Laviole, Nicolas Mellado, Nadine Couture, and Xavier Granier. 2014. “The Revealing\\nFlashlight: Interactive Spatial Augmented Reality for Detail Exploration of Cultural Heritage Artifacts.” Journal on\\nComputing and Cultural Heritage 7 (2): 1-18.\\n\\nSamis, Peter. 2008. “The Exploded Museum.” In Digital Technologies and the Museum Experience: Handheld guides and\\nother media, edited by Loic Tallon and Kevin Walker, 3-18. Lanham, MD: Alta Mira Press.\\n\\nSaville-Troike, Muriel. 1985. “The Place of Silence in an Integrated Theory of Communication.” In Perspectives on\\nSilence, edited by Deborah Tannen and Muriel Saville-Troike, 3-20. Norwood, NJ: Ablex Publishing Corporation.\\n\\nSchechner, R. 2002. Performance Studies: An Introduction. London: Routledge.\\n\\nSchraffenberger, Hanna, and Edwin van der Heide. 2014. “Everything Augmented: On the Real in Augmented Reality.”\\nCITAR Journal 6 (1): 17-29.\\n\\nSimon, N. 2010. The Participatory Museum. Santa Cruz, CA: Museum 2.0.\\n\\nStogner, Maggie Burnette. 2009. “The Media-enhanced Museum Experience: Debating the Use of Media Technology in\\nCultural Exhibitions.’ Paper presented at Media in Transition 6, PLACE, April 24-26. Accessed May 27, 2013. http://\\nweb.mit.edu/comm-forum/mit6/papers/Stogner.pdf\\n\\nTrezise, Bryoni. 2012. “Touching Virtual Trauma: Performative Empathics in Second Life.” Memory Studies 5 (4): 392-409.\\n\\nWebb, Jen. 2009. Understanding Representation. Los Angeles, CA: Sage.\\n\\nWispé, Lauren. 1987. “History of the Concept of Empathy.” In Empathy and Its Development, edited by Nancy Eisenberg\\nand Janet Strayer, 17-37. Cambridge, MA: Cambridge University Press.\\n\\nWoodward, Simon. 2012. “Funding Museum Agendas: Challenges and Opportunities.” Managing Leisure 17: 14-28.\\n\\nWoolford, Kirk, and Stuart Dunn. 2013. “Experimental Archaeology and Games: Challenges of Inhabiting Virtual\\nHeritage.” Journal of Computing and Cultural Heritage 6 (4): 16.\\n\\nYoon, Susan A., Karen Elinich, Joyce Wang, Christopher Steinmeier, and Sean Tucker. 2012. “Using Augmented Reality\\nand Knowledge-building Scaffolds to Improve Learning in a Science Museum.” Computer-Supported Collaborative\\nLearning 7: 519-541.\\n\\x0c'})\n"
     ]
    }
   ],
   "source": [
    "print(\"The first entry of the search dictionary is: \", next(iter(instancesFound.items() )))\n",
    "        "
   ]
  },
  {
   "cell_type": "code",
   "execution_count": null,
   "metadata": {},
   "outputs": [],
   "source": [
    "\n"
   ]
  },
  {
   "cell_type": "code",
   "execution_count": null,
   "metadata": {},
   "outputs": [],
   "source": []
  }
 ],
 "metadata": {
  "kernelspec": {
   "display_name": "Python 3",
   "language": "python",
   "name": "python3"
  },
  "language_info": {
   "codemirror_mode": {
    "name": "ipython",
    "version": 3
   },
   "file_extension": ".py",
   "mimetype": "text/x-python",
   "name": "python",
   "nbconvert_exporter": "python",
   "pygments_lexer": "ipython3",
   "version": "3.8.3"
  }
 },
 "nbformat": 4,
 "nbformat_minor": 4
}
